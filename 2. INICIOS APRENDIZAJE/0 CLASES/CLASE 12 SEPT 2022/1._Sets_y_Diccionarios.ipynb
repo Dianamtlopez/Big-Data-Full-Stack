{
 "cells": [
  {
   "cell_type": "markdown",
   "id": "4765b98f",
   "metadata": {},
   "source": [
    "SETS\n",
    "\n",
    "Los sets son muy similares a las listas, pero estas no permiten elementos repetidos e incluso si lo declaras con valores repetidos, solo se guardará un valor único.\n",
    "\n",
    "Para declarar un set, escribiremos set, abriremos paréntesis y dentro introduciremos una lista, después cerramos paréntesis y listo:"
   ]
  },
  {
   "cell_type": "code",
   "execution_count": 27,
   "id": "9c761aef",
   "metadata": {},
   "outputs": [],
   "source": [
    "my_set = set([1, 2, 3])"
   ]
  },
  {
   "cell_type": "markdown",
   "id": "7ba3df39",
   "metadata": {},
   "source": [
    "Operaciones disponibles para la manipulación de sets\n",
    "\n",
    "Si queremos añadir un nuevo elemento a un set ya existente, utilizaremos el método add() y pasaremos por parámetro el valor a añadir:"
   ]
  },
  {
   "cell_type": "code",
   "execution_count": 28,
   "id": "e9ed865c",
   "metadata": {},
   "outputs": [
    {
     "name": "stdout",
     "output_type": "stream",
     "text": [
      "{2, 5, 6, 8, 11}\n"
     ]
    }
   ],
   "source": [
    "my_set = set([2, 6, 8, 5])\n",
    "my_set.add(11)\n",
    "print(my_set)\n",
    "# Print: {2, 5, 6, 8, 11}"
   ]
  },
  {
   "cell_type": "markdown",
   "id": "b6659563",
   "metadata": {},
   "source": [
    "En el caso de querer eliminar un elemento, utilizaremos el método remove() y pasaremos por parámetro a eliminar, si este existe lo eliminará, si no, lanzará una excepción."
   ]
  },
  {
   "cell_type": "code",
   "execution_count": 30,
   "id": "a1f269eb",
   "metadata": {},
   "outputs": [
    {
     "name": "stdout",
     "output_type": "stream",
     "text": [
      "{2, 5, 6}\n"
     ]
    }
   ],
   "source": [
    "my_set = set([2, 6, 8, 5])\n",
    "my_set.remove(8)\n",
    "print(my_set)\n",
    "# Print: {2, 5, 6}"
   ]
  },
  {
   "cell_type": "markdown",
   "id": "c4440b73",
   "metadata": {},
   "source": [
    "También podemos usar el método discard() que es igual a remove() pero en este caso no lanzará una excepción si no encuentra el valor."
   ]
  },
  {
   "cell_type": "code",
   "execution_count": 31,
   "id": "dfbe34fa",
   "metadata": {},
   "outputs": [
    {
     "name": "stdout",
     "output_type": "stream",
     "text": [
      "{8, 2, 5, 6}\n"
     ]
    }
   ],
   "source": [
    "my_set = set([2, 6, 8, 5])\n",
    "my_set.discard(1)\n",
    "print(my_set)\n",
    "# Print: {8, 2, 5, 6}"
   ]
  },
  {
   "cell_type": "markdown",
   "id": "ab88bacb",
   "metadata": {},
   "source": [
    "Para vaciar un set podemos utilizar el método clear().\n",
    "\n",
    "Si queremos fusionar dos sets podemos utilizar el método union()."
   ]
  },
  {
   "cell_type": "code",
   "execution_count": 35,
   "id": "dc51fcd4",
   "metadata": {},
   "outputs": [
    {
     "name": "stdout",
     "output_type": "stream",
     "text": [
      "{1, 2, 3, 4, 5}\n"
     ]
    }
   ],
   "source": [
    "my_set_1 = set([1, 2, 3])\n",
    "my_set_2 = set([3, 4, 5])\n",
    "my_new_set = my_set_1.union(my_set_2)\n",
    "\n",
    "print(my_new_set)\n",
    "# Print: {1, 2, 3, 4, 5}"
   ]
  },
  {
   "cell_type": "markdown",
   "id": "c712620b",
   "metadata": {},
   "source": [
    "Para averiguar la coincidencia entre dos sets, usaremos el método intersection(), esto nos devolverá un set con los valores que comparten ambos sets."
   ]
  },
  {
   "cell_type": "code",
   "execution_count": 37,
   "id": "0638f452",
   "metadata": {},
   "outputs": [
    {
     "name": "stdout",
     "output_type": "stream",
     "text": [
      "{3}\n"
     ]
    }
   ],
   "source": [
    "my_set_1 = set([1, 2, 3])\n",
    "my_set_2 = set([3, 4, 5])\n",
    "my_new_set = my_set_1.intersection(my_set_2)\n",
    "\n",
    "print(my_new_set)\n",
    "# Print: {3}"
   ]
  },
  {
   "cell_type": "markdown",
   "id": "f447fc11",
   "metadata": {},
   "source": [
    "Si queremos comparar que valores de un set no están en un segundo set, usaremos el método difference()."
   ]
  },
  {
   "cell_type": "code",
   "execution_count": 38,
   "id": "134ba0e0",
   "metadata": {},
   "outputs": [
    {
     "name": "stdout",
     "output_type": "stream",
     "text": [
      "{1, 2}\n"
     ]
    }
   ],
   "source": [
    "my_set_1 = set([1, 2, 3])\n",
    "my_set_2 = set([3, 4, 5])\n",
    "my_new_set = my_set_1.difference(my_set_2)\n",
    "\n",
    "print(my_new_set)\n",
    "# Print: {1, 2}"
   ]
  },
  {
   "cell_type": "markdown",
   "id": "f22dd1e4",
   "metadata": {},
   "source": [
    "DICCIONARIOS\n",
    "\n",
    "Un diccionario es una estructura de datos que almacena la información en forma de pares con una clave única y un valor asociado. Los diccionarios se pueden declaran con (llaves) {} o con la función dict()."
   ]
  },
  {
   "cell_type": "code",
   "execution_count": 16,
   "id": "ccdad204",
   "metadata": {},
   "outputs": [],
   "source": [
    "# Diccionario vacío inicializado con dict()\n",
    "my_dict = dict()\n",
    "# Diccionario vacío inicializado con llaves\n",
    "my_dict = {}\n",
    "# Diccionario inicializado con valores\n",
    "my_dict = {'status': True, 'msg': 'ok'}"
   ]
  },
  {
   "cell_type": "markdown",
   "id": "a965d864",
   "metadata": {},
   "source": [
    "Para acceder al valor de un elemento, escribiremos el nombre de la variable seguido de apertura de corchetes, el nombre de la clave y cierre de corchetes:"
   ]
  },
  {
   "cell_type": "code",
   "execution_count": 17,
   "id": "01640d50",
   "metadata": {},
   "outputs": [
    {
     "name": "stdout",
     "output_type": "stream",
     "text": [
      "World\n"
     ]
    }
   ],
   "source": [
    "my_dict = {\n",
    "    'hello': 'World',\n",
    "    'msg': 'ok'\n",
    "}\n",
    "\n",
    "print(my_dict['hello'])\n",
    "# Print: World"
   ]
  },
  {
   "cell_type": "markdown",
   "id": "011659a7",
   "metadata": {},
   "source": [
    "Cuando iteramos en diccionarios podemos hacerlo a través de las claves, valores o ítems (pares clave-valor). Para ello podremos usar el bucle for y para iterar sobre las claves, el nombre del diccionario y el método keys(), en el caso de los valores utilizaremos el método values() y para iterar sobre la clave y el valor, usaremos el método items()."
   ]
  },
  {
   "cell_type": "code",
   "execution_count": 18,
   "id": "9315a521",
   "metadata": {},
   "outputs": [
    {
     "name": "stdout",
     "output_type": "stream",
     "text": [
      "hello\n",
      "msg\n",
      "World\n",
      "ok\n",
      "key hello, value World\n",
      "key msg, value ok\n"
     ]
    }
   ],
   "source": [
    "my_dict = {\n",
    "    'hello': 'World',\n",
    "    'msg': 'ok'\n",
    "}\n",
    "\n",
    "# Iterar en llaves\n",
    "for key in my_dict.keys():\n",
    "    print(key)\n",
    "\n",
    "# Iterar en valores\n",
    "for value in my_dict.values():\n",
    "    print(value)\n",
    "\n",
    "# Iterar en ítems\n",
    "for key, value in my_dict.items():\n",
    "    print(f'key {key}, value {value}')"
   ]
  },
  {
   "cell_type": "markdown",
   "id": "b67e7273",
   "metadata": {},
   "source": [
    "Operaciones disponibles para la manipulación de diccionarios\n",
    "\n",
    "Si queremos vaciar un diccionario, al igual que en las listas, podremos usar el método clear()."
   ]
  },
  {
   "cell_type": "code",
   "execution_count": 19,
   "id": "f43ddc40",
   "metadata": {},
   "outputs": [
    {
     "name": "stdout",
     "output_type": "stream",
     "text": [
      "{}\n"
     ]
    }
   ],
   "source": [
    "my_dict.clear()\n",
    "print(my_dict)\n",
    "# Print: {}"
   ]
  },
  {
   "cell_type": "markdown",
   "id": "b4fae809",
   "metadata": {},
   "source": [
    "Otra forma de obtener el valor de una clave de un diccionario es utilizando el método get(). Dentro de este método podremos pasar la clave que estamos buscando y opcionalmente un valor por defecto si no encuentra ese valor. En el caso de no encontrarlo y no poner ningún valor por defecto, devolverá None."
   ]
  },
  {
   "cell_type": "code",
   "execution_count": 20,
   "id": "d553c3b5",
   "metadata": {},
   "outputs": [
    {
     "name": "stdout",
     "output_type": "stream",
     "text": [
      "None\n",
      "None\n",
      "default\n"
     ]
    }
   ],
   "source": [
    "print(my_dict.get('hello'))\n",
    "# Print: World\n",
    "print(my_dict.get('new_key'))\n",
    "# Print: None\n",
    "print(my_dict.get('new_key', 'default'))\n",
    "# Print: default"
   ]
  },
  {
   "cell_type": "markdown",
   "id": "ba83fc29",
   "metadata": {},
   "source": [
    "Si queremos obtener un listado con todas las claves de un diccionario, podemos convertirlo en una lista de la siguiente forma:"
   ]
  },
  {
   "cell_type": "code",
   "execution_count": 21,
   "id": "7b4df3fd",
   "metadata": {},
   "outputs": [
    {
     "name": "stdout",
     "output_type": "stream",
     "text": [
      "['hello', 'msg']\n"
     ]
    }
   ],
   "source": [
    "my_dict = {\n",
    "    'hello': 'World',\n",
    "    'msg': 'ok'\n",
    "}\n",
    "\n",
    "print(list(my_dict))\n",
    "# Print: ['hello', 'msg']"
   ]
  },
  {
   "cell_type": "markdown",
   "id": "c2403ee7",
   "metadata": {},
   "source": [
    "Para obtener el número de elementos de un diccionario usando la función len."
   ]
  },
  {
   "cell_type": "code",
   "execution_count": 22,
   "id": "b2d0ea10",
   "metadata": {},
   "outputs": [
    {
     "name": "stdout",
     "output_type": "stream",
     "text": [
      "2\n"
     ]
    }
   ],
   "source": [
    "my_dict = {\n",
    "    'hello': 'World',\n",
    "    'msg': 'ok'\n",
    "}\n",
    "\n",
    "print(len(my_dict))\n",
    "# Print: 2"
   ]
  },
  {
   "cell_type": "markdown",
   "id": "1bfd9685",
   "metadata": {},
   "source": [
    "Para comprobar si existe una clave o no dentro de un diccionario, podemos usar el operador in, esto nos devolverá True en caso de encontrarlo y False si no lo encuentra, también podemos utilizar el operador not in para verificar que una clave no esté en un diccionario:"
   ]
  },
  {
   "cell_type": "code",
   "execution_count": 23,
   "id": "9942d22f",
   "metadata": {},
   "outputs": [
    {
     "name": "stdout",
     "output_type": "stream",
     "text": [
      "True\n",
      "False\n"
     ]
    }
   ],
   "source": [
    "my_dict = {\n",
    "    'hello': 'World',\n",
    "    'msg': 'ok'\n",
    "}\n",
    "\n",
    "result = 'hello' in my_dict\n",
    "print(result)\n",
    "# Print: True\n",
    "result2 = 'msg' not in my_dict\n",
    "print(result2)\n",
    "# Print: False"
   ]
  }
 ],
 "metadata": {
  "kernelspec": {
   "display_name": "Python 3 (ipykernel)",
   "language": "python",
   "name": "python3"
  },
  "language_info": {
   "codemirror_mode": {
    "name": "ipython",
    "version": 3
   },
   "file_extension": ".py",
   "mimetype": "text/x-python",
   "name": "python",
   "nbconvert_exporter": "python",
   "pygments_lexer": "ipython3",
   "version": "3.9.12"
  },
  "varInspector": {
   "cols": {
    "lenName": 16,
    "lenType": 16,
    "lenVar": 40
   },
   "kernels_config": {
    "python": {
     "delete_cmd_postfix": "",
     "delete_cmd_prefix": "del ",
     "library": "var_list.py",
     "varRefreshCmd": "print(var_dic_list())"
    },
    "r": {
     "delete_cmd_postfix": ") ",
     "delete_cmd_prefix": "rm(",
     "library": "var_list.r",
     "varRefreshCmd": "cat(var_dic_list()) "
    }
   },
   "types_to_exclude": [
    "module",
    "function",
    "builtin_function_or_method",
    "instance",
    "_Feature"
   ],
   "window_display": false
  }
 },
 "nbformat": 4,
 "nbformat_minor": 5
}
