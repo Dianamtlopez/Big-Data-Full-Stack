{
  "nbformat": 4,
  "nbformat_minor": 0,
  "metadata": {
    "colab": {
      "name": "Clase y Objetos - Privados.ipynb",
      "provenance": []
    },
    "kernelspec": {
      "name": "python3",
      "display_name": "Python 3"
    },
    "language_info": {
      "name": "python"
    }
  },
  "cells": [
    {
      "cell_type": "code",
      "execution_count": 13,
      "metadata": {
        "id": "Kfo6_uFXPPwF"
      },
      "outputs": [],
      "source": [
        "class Animal: \n",
        "\n",
        "  def __init__(self, especie, edad):#Constructor como siempre en la clase Padre\n",
        "    self.especie = especie\n",
        "    self.edad = edad\n",
        "\n",
        "  def _hablar(self):  #Método generico vacio por ahora\n",
        "    print(\"este es el metodo hablar\")\n",
        "\n",
        "  def moverse(self): #Método generico vacio por ahora\n",
        "    print(\"este es el metodo moverse\")"
      ]
    },
    {
      "cell_type": "code",
      "source": [
        "class Perro(Animal):\n",
        "  pass"
      ],
      "metadata": {
        "id": "Vspsvr2EPRPI"
      },
      "execution_count": 14,
      "outputs": []
    },
    {
      "cell_type": "code",
      "source": [
        "perro1 = Perro(\"Mamífero\", 11)  #INCREIBLE, cree un perro y la clase perro no \n",
        "\n",
        "perro1.hablar()\n",
        "perro1.moverse()"
      ],
      "metadata": {
        "colab": {
          "base_uri": "https://localhost:8080/",
          "height": 226
        },
        "id": "xbjle3r7PU-H",
        "outputId": "edcc2e51-5c73-40e9-f73f-2126b82fe2c2"
      },
      "execution_count": 15,
      "outputs": [
        {
          "output_type": "error",
          "ename": "AttributeError",
          "evalue": "ignored",
          "traceback": [
            "\u001b[0;31m---------------------------------------------------------------------------\u001b[0m",
            "\u001b[0;31mAttributeError\u001b[0m                            Traceback (most recent call last)",
            "\u001b[0;32m<ipython-input-15-06bf3cf413e8>\u001b[0m in \u001b[0;36m<module>\u001b[0;34m()\u001b[0m\n\u001b[1;32m      1\u001b[0m \u001b[0mperro1\u001b[0m \u001b[0;34m=\u001b[0m \u001b[0mPerro\u001b[0m\u001b[0;34m(\u001b[0m\u001b[0;34m\"Mamífero\"\u001b[0m\u001b[0;34m,\u001b[0m \u001b[0;36m11\u001b[0m\u001b[0;34m)\u001b[0m  \u001b[0;31m#INCREIBLE, cree un perro y la clase perro no\u001b[0m\u001b[0;34m\u001b[0m\u001b[0;34m\u001b[0m\u001b[0m\n\u001b[1;32m      2\u001b[0m \u001b[0;34m\u001b[0m\u001b[0m\n\u001b[0;32m----> 3\u001b[0;31m \u001b[0mperro1\u001b[0m\u001b[0;34m.\u001b[0m\u001b[0mhablar\u001b[0m\u001b[0;34m(\u001b[0m\u001b[0;34m)\u001b[0m\u001b[0;34m\u001b[0m\u001b[0;34m\u001b[0m\u001b[0m\n\u001b[0m\u001b[1;32m      4\u001b[0m \u001b[0mperro1\u001b[0m\u001b[0;34m.\u001b[0m\u001b[0mmoverse\u001b[0m\u001b[0;34m(\u001b[0m\u001b[0;34m)\u001b[0m\u001b[0;34m\u001b[0m\u001b[0;34m\u001b[0m\u001b[0m\n",
            "\u001b[0;31mAttributeError\u001b[0m: 'Perro' object has no attribute 'hablar'"
          ]
        }
      ]
    }
  ]
}