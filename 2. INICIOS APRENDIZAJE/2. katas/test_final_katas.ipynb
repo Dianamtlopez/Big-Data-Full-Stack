{
  "nbformat": 4,
  "nbformat_minor": 0,
  "metadata": {
    "colab": {
      "provenance": []
    },
    "kernelspec": {
      "name": "python3",
      "display_name": "Python 3"
    },
    "language_info": {
      "name": "python"
    }
  },
  "cells": [
    {
      "cell_type": "code",
      "execution_count": 5,
      "metadata": {
        "colab": {
          "base_uri": "https://localhost:8080/"
        },
        "id": "nVjdULn8XpGJ",
        "outputId": "dda401e6-ad41-45e3-efa4-47e797a1fd7c"
      },
      "outputs": [
        {
          "output_type": "stream",
          "name": "stdout",
          "text": [
            "5\n"
          ]
        }
      ],
      "source": [
        "# Recibe un número. Si es par, lo devuelve multiplicado por dos y si es impar lo devuelve sin alterar.\n",
        "def h(x):\n",
        "  if x % 2 == 0:\n",
        "    return x * 2 \n",
        "  else:\n",
        "    return x\n",
        "\n",
        "lista = [1,2,3,4,5,6,7,8,9,10]\n",
        "print(h(5))"
      ]
    },
    {
      "cell_type": "code",
      "source": [
        "def mystery(elements, max_value): \n",
        "  accum = [] \n",
        "  for elt in elements: \n",
        "    if elt < max_value:\n",
        "      accum.append(elt)\n",
        "  return accum\n",
        "\n",
        "lista = [1,2,3,4,5,6,7,8,9,10]\n",
        "print(mystery(lista, 5))\n",
        "\n",
        "# ¿Qué tipo devuelve la siguiente función?\n",
        "# una lista"
      ],
      "metadata": {
        "colab": {
          "base_uri": "https://localhost:8080/"
        },
        "id": "p8ez2mBvbZjG",
        "outputId": "dd4f04ae-d575-4745-a573-28ded7fbc951"
      },
      "execution_count": 11,
      "outputs": [
        {
          "output_type": "stream",
          "name": "stdout",
          "text": [
            "[1, 2, 3, 4]\n"
          ]
        }
      ]
    },
    {
      "cell_type": "code",
      "source": [
        "# ¿Qué hace la siguiente función? \n",
        "# R/ Devuelve una lista con ls valores menores que `max_value`.\n",
        "def mystery(elements, max_value): \n",
        "  accum = []\n",
        "  for elt in elements: \n",
        "    if elt < max_value:\n",
        "      accum.append(elt)\n",
        "  return accum\n",
        "\n",
        "lista = [1,2,3,4,5,6,7,8,9,10]\n",
        "print(mystery(lista, 5))"
      ],
      "metadata": {
        "colab": {
          "base_uri": "https://localhost:8080/"
        },
        "id": "AffhFK4ycvz4",
        "outputId": "235c90f8-dd16-41d2-beaa-23fdea9cf481"
      },
      "execution_count": 13,
      "outputs": [
        {
          "output_type": "stream",
          "name": "stdout",
          "text": [
            "[1, 2, 3, 4]\n"
          ]
        }
      ]
    },
    {
      "cell_type": "code",
      "source": [
        "# ¿Qué devuelve esta función?\n",
        "# Un booleano\n",
        "def f(string):\n",
        "  vowels = set('aeiou')\n",
        "  normalized = string.lower() \n",
        "  return normalized [0] in vowels\n",
        "\n",
        "palabra = 'Hola Mundo'\n",
        "print(f(palabra))"
      ],
      "metadata": {
        "colab": {
          "base_uri": "https://localhost:8080/"
        },
        "id": "BXHLP84vdMgT",
        "outputId": "98ed0acb-dac2-4bc1-9964-77d5792c337b"
      },
      "execution_count": 16,
      "outputs": [
        {
          "output_type": "stream",
          "name": "stdout",
          "text": [
            "True\n"
          ]
        }
      ]
    },
    {
      "cell_type": "code",
      "source": [
        "# ¿Qué hace esta función?\n",
        "# Es un predicado que indica si una palabra empieza por una vocal.\n",
        "def f(string):\n",
        "  vowels = set('aeiou')\n",
        "  normalized = string.lower()\n",
        "  return normalized [0] in vowels\n",
        "\n",
        "palabra = 'ola Mundo'\n",
        "print(f(palabra))"
      ],
      "metadata": {
        "colab": {
          "base_uri": "https://localhost:8080/"
        },
        "id": "FCfo48M5d70O",
        "outputId": "eaddad4a-059b-4c2d-c73c-7488d80d3a87"
      },
      "execution_count": 18,
      "outputs": [
        {
          "output_type": "stream",
          "name": "stdout",
          "text": [
            "True\n"
          ]
        }
      ]
    },
    {
      "cell_type": "code",
      "source": [
        "# ¿Qué hace esta función?\n",
        "# Recibe una lista y un predicado. Devuelve una nueva lista con aquellos elementos para los cuales el predicado devuelve True.\n",
        "def frob(elements, predicate): \n",
        "  accum = [] \n",
        "  for element in elements: \n",
        "    if predicate(element): \n",
        "      accum.append(element)\n",
        "  return accum\n",
        "lista = [1,2,3,4,5,6,7,8,9,10]\n",
        "print(frob(lista, lambda x: x > 5))"
      ],
      "metadata": {
        "colab": {
          "base_uri": "https://localhost:8080/"
        },
        "id": "F1frb5FGefvq",
        "outputId": "4ebb37c5-aff9-4c6f-cc48-cef42e088c16"
      },
      "execution_count": 26,
      "outputs": [
        {
          "output_type": "stream",
          "name": "stdout",
          "text": [
            "[6, 7, 8, 9, 10]\n"
          ]
        }
      ]
    },
    {
      "cell_type": "code",
      "source": [
        "# ¿Qué hace la siguiente función?\n",
        "# Reduce una lista de valores a uno solo, combinándolos mediante la función combiner y el valor inicial.\n",
        "def candida(elements, combiner, initial_value):\n",
        "  accum = initial_value \n",
        "  for elt in elements:\n",
        "    accum = combiner (accum, elt)\n",
        "  return accum\n",
        "\n",
        "def suma(a,b):\n",
        "  return a + b\n",
        "lista = [1,2,3,4,5,6,7,8,9,10]\n",
        "print(candida(lista, suma, 0))"
      ],
      "metadata": {
        "colab": {
          "base_uri": "https://localhost:8080/"
        },
        "id": "FarU2gcYgDzA",
        "outputId": "bdb78c3d-4357-4d4b-d5ff-e84a4f0eaa68"
      },
      "execution_count": 28,
      "outputs": [
        {
          "output_type": "stream",
          "name": "stdout",
          "text": [
            "55\n"
          ]
        }
      ]
    },
    {
      "cell_type": "code",
      "source": [
        "# ¿Cual es el resultado de llamar a la función `candida` de la siguiente manera?\n",
        "# Devuelve la suma de todos los elementos de la lista.\n",
        "def candida(elements, combiner, initial_value): \n",
        "  accum = initial_value\n",
        "  for elt in elements:\n",
        "    accum = combiner (accum, elt)\n",
        "  return accum\n",
        "\n",
        "candida([1,2,34, 56], lambda a, b: a + b, 0)"
      ],
      "metadata": {
        "colab": {
          "base_uri": "https://localhost:8080/"
        },
        "id": "OIZBMcbYgsmh",
        "outputId": "590788df-e9d1-41fe-dac4-836e3e29b1b1"
      },
      "execution_count": 29,
      "outputs": [
        {
          "output_type": "execute_result",
          "data": {
            "text/plain": [
              "93"
            ]
          },
          "metadata": {},
          "execution_count": 29
        }
      ]
    },
    {
      "cell_type": "code",
      "source": [
        "# ¿Qué hace la función g?\n",
        "# Recibe una lista y una función. Devuelve una nueva lista con los elementos originales modificados mediante al función transformer.\n",
        "def g(elements, transformer): \n",
        "  accum = []\n",
        "  for elt in elements:\n",
        "    accum.append(transformer(elt))\n",
        "  return accum\n",
        "\n",
        "def h(x):\n",
        "  return x * 2\n",
        "\n",
        "lista = [1,2,3,4,5,6,7,8,9,10]\n",
        "print(g(lista, h))"
      ],
      "metadata": {
        "colab": {
          "base_uri": "https://localhost:8080/"
        },
        "id": "V5JLG3Jdg_yU",
        "outputId": "ceefa1e6-ae9d-45d6-bd40-9e4691bd3391"
      },
      "execution_count": 38,
      "outputs": [
        {
          "output_type": "stream",
          "name": "stdout",
          "text": [
            "[2, 4, 6, 8, 10, 12, 14, 16, 18, 20]\n"
          ]
        }
      ]
    },
    {
      "cell_type": "code",
      "source": [
        "# Tienes que crear la función `lens`, que recibe una lista de listas y devuelve \n",
        "# una lista de las longitudes de cada una de esas listas. Para ello, tienes que \n",
        "# usar la función g ya definida. ¿Qué habría que poner en vez de los puntos de \n",
        "# interrogación?\n",
        "\n",
        "def g(elements, transformer): \n",
        "  accum = []\n",
        "  for elt in elements:\n",
        "    accum.append(transformer(elt))\n",
        "  return accum\n",
        "\n",
        "def lens(x):\n",
        "  return len(x)\n",
        "\n",
        "def lens (list_of_lists): \n",
        "  return g(list_of_lists,lens)\n",
        "\n",
        "lista = [[1,2],[3,4],[5,6],[7,8],[9,10]]\n",
        "print(lens(lista))"
      ],
      "metadata": {
        "colab": {
          "base_uri": "https://localhost:8080/"
        },
        "id": "rKZXqfJli7nR",
        "outputId": "a8ce613a-aeeb-4939-8f13-677d9fd55f84"
      },
      "execution_count": 41,
      "outputs": [
        {
          "output_type": "stream",
          "name": "stdout",
          "text": [
            "[2, 2, 2, 2, 2]\n"
          ]
        }
      ]
    },
    {
      "cell_type": "code",
      "source": [
        "# ¿Qué hace esta función?\n",
        "# Recorre una lista y devuelve una nueva lista con los elementos que pasan el \n",
        "# test del predicado sustituidos por new_value.\n",
        "def epl(elements, predicate, new_value): \n",
        "  new_list = []\n",
        "  for element in elements:\n",
        "    if predicate(element):\n",
        "      new_list.append(new_value)\n",
        "    else:\n",
        "      new_list.append(element)\n",
        "  return new_list\n",
        "lista = [1,2,3,4,5,6,7,8,9,10]\n",
        "print(epl(lista, lambda x: x > 5, 3 ))"
      ],
      "metadata": {
        "colab": {
          "base_uri": "https://localhost:8080/"
        },
        "id": "rDsd7WHMkeZd",
        "outputId": "d39b20bb-5442-4838-ce31-e8c764b268ee"
      },
      "execution_count": 45,
      "outputs": [
        {
          "output_type": "stream",
          "name": "stdout",
          "text": [
            "[1, 2, 3, 4, 5, 3, 3, 3, 3, 3]\n"
          ]
        }
      ]
    },
    {
      "cell_type": "code",
      "source": [
        "# ¿Qué hará este bucle while?\n",
        "# Seguirá pidiendo el nombre al usuario hasta que conteste Anakin.\n",
        "while True:\n",
        "  name = input('Type your name:') \n",
        "  if name == 'Anakin': \n",
        "    break"
      ],
      "metadata": {
        "colab": {
          "base_uri": "https://localhost:8080/"
        },
        "id": "cVE3EQpQl8A3",
        "outputId": "6d69acff-c690-4d93-c58e-864cbc5bb2d1"
      },
      "execution_count": 48,
      "outputs": [
        {
          "name": "stdout",
          "output_type": "stream",
          "text": [
            "Type your name:diana\n",
            "Type your name:juan\n",
            "Type your name:Anakin\n"
          ]
        }
      ]
    },
    {
      "cell_type": "code",
      "source": [
        "# ¿Qué hace esta linea de código?\n",
        "# Compara el valor de la variable name con la cadena 'Anakin' y devuelve un booleano.\n",
        "name == 'Anakin'"
      ],
      "metadata": {
        "colab": {
          "base_uri": "https://localhost:8080/"
        },
        "id": "ANlQ9deimgnj",
        "outputId": "94da50b2-e8b0-4063-e84e-e171d84110a8"
      },
      "execution_count": 49,
      "outputs": [
        {
          "output_type": "execute_result",
          "data": {
            "text/plain": [
              "True"
            ]
          },
          "metadata": {},
          "execution_count": 49
        }
      ]
    },
    {
      "cell_type": "code",
      "source": [
        "# ¿Qué le falta a esta función? Queremos crear una función que suma todos los \n",
        "# elementos de una lista.  ¿Qué habría que poner en vez de ???? para que funcione?\n",
        "def sum_all(numbers):\n",
        "  index = 0\n",
        "  sum = 0\n",
        "  while index < len(numbers):\n",
        "    sum = sum + numbers[index]\n",
        "    index += 1\n",
        "  return sum\n",
        "\n",
        "lista = [1,2,3,4,5,6,7,8,9,10]\n",
        "print(sum_all(lista))"
      ],
      "metadata": {
        "colab": {
          "base_uri": "https://localhost:8080/"
        },
        "id": "ZQakN16wmwnI",
        "outputId": "1a5e809b-93da-4482-f4de-235149571dad"
      },
      "execution_count": 69,
      "outputs": [
        {
          "output_type": "stream",
          "name": "stdout",
          "text": [
            "55\n"
          ]
        }
      ]
    }
  ]
}