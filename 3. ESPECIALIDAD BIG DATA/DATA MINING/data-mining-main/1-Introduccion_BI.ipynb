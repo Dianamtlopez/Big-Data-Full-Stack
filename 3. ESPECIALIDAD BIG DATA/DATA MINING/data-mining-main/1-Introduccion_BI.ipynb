{
  "cells": [
    {
      "cell_type": "markdown",
      "metadata": {},
      "source": [
        "# Introducción a R, Data Mining & Business Intelligence\n",
        "\n",
        "### Bienvenidos\n",
        "\n",
        "Esto es un notebook. Podemos escribir en lenguaje Markdown, el cual nos permite:\n",
        "* Listas\n",
        "* Escribir en **negrita** y *cursiva*\n",
        "* Más información aquí: [Markdown-Cheatsheet](https://github.com/adam-p/markdown-here/wiki/Markdown-Cheatsheet)\n",
        "\n",
        "### PREGUNTAD!!\n",
        "\n",
        "Sobretodo si os perdeis, no lleguemos a casos donde no sepais que estamos haciendo.\n",
        "\n",
        "![Imagen no cargada. Edita y borra la @ ](https://i.kym-cdn.com/entries/icons/original/000/008/342/ihave.jpg @)\n",
        "\n",
        "## Business Intelligence\n",
        "\n",
        "El término Business Intelligence (BI) aprovecha el software y los servicios para transformar los datos en información procesable que informe las decisiones comerciales estratégicas y tácticas de una organización. Las herramientas de BI acceden y analizan conjuntos de datos y presentan hallazgos analíticos en informes, resúmenes, tableros, gráficos, tablas y mapas para proporcionar a los usuarios inteligencia detallada sobre el estado del negocio.\n",
        "\n",
        "El término Business Intelligence a menudo también se refiere a una variedad de herramientas que brindan acceso rápido y fácil de digerir a información sobre el estado actual de una organización, según los datos disponibles.\n",
        "\n",
        "\n",
        "### Herramientas BI\n",
        "\n",
        "#### De pago:\n",
        "* PowerBI: https://powerbi.microsoft.com/en-au/\n",
        "* Tableau: https://www.tableau.com/\n",
        "* Qlickview: https://www.qlik.com/\n",
        "\n",
        "### Gratuitas:\n",
        "* Metabase: https://www.metabase.com/\n",
        "* Apache Superset: https://superset.apache.org/\n",
        "\n",
        "### Lenguaje estadístico R\n",
        "\n",
        "R es un entorno y lenguaje de programación con un enfoque al análisis estadístico.\n",
        "\n",
        "Es gratuito, se distribuye bajo licencia GPL y está disponible aquí: https://www.r-project.org/\n",
        "\n",
        "# Bibliografía \n",
        "\n",
        "\n",
        "Sobre **R**: [R for Data Science: Import, Tidy, Transform, Visualize, and Model Data](https://www.amazon.com/Data-Science-Transform-Visualize-Model/dp/1491910399/ref=sr_1_1?ie=UTF8&qid=1518791084) Este libro es bastante completo, abarca mucho temario que no veremos por falta de tiempo."
      ],
      "id": "401abfb1"
    },
    {
      "cell_type": "code",
      "metadata": {},
      "source": [
        "install.packages(c(\"tidyverse\", \"rmarkdown\", \"nasapower\", \"zoo\", \"caret\"))"
      ],
      "id": "4afd8c03",
      "execution_count": null,
      "outputs": []
    },
    {
      "cell_type": "markdown",
      "metadata": {},
      "source": [
        "# ¿Que podemos hacer con R?\n",
        "\n",
        "### Trabajar con tablas \n",
        "\n",
        "Podemos guardar el contenido de una hoja de calculo Excel o un fichero CSV en un objeto llamado dataframe.\n"
      ],
      "id": "b44548c9"
    },
    {
      "cell_type": "code",
      "metadata": {},
      "source": [
        "activities<-read.csv('data/activities_strava.csv', stringsAsFactor=T)"
      ],
      "id": "b1db420a",
      "execution_count": null,
      "outputs": []
    },
    {
      "cell_type": "markdown",
      "metadata": {},
      "source": [
        "Podemos ver las primeras filas de su contenido:\n"
      ],
      "id": "a05ef39a"
    },
    {
      "cell_type": "code",
      "metadata": {},
      "source": [
        "head(activities)"
      ],
      "id": "8bf1f0fc",
      "execution_count": null,
      "outputs": []
    },
    {
      "cell_type": "markdown",
      "metadata": {},
      "source": [
        "Podemos quedarnos con las columnas que nos interesan:\n"
      ],
      "id": "1caae57c"
    },
    {
      "cell_type": "code",
      "metadata": {},
      "source": [
        "colnames(activities)"
      ],
      "id": "55283b97",
      "execution_count": null,
      "outputs": []
    },
    {
      "cell_type": "code",
      "metadata": {},
      "source": [
        "activities <- activities[,c('Activity.Name', 'Activity.Type', 'Elapsed.Time', 'Distance')]\n",
        "head(activities)"
      ],
      "id": "2f777186",
      "execution_count": null,
      "outputs": []
    },
    {
      "cell_type": "markdown",
      "metadata": {},
      "source": [
        "Podemos obtener un resumen del dataframe\n"
      ],
      "id": "4958e247"
    },
    {
      "cell_type": "code",
      "metadata": {},
      "source": [
        "summary(activities)"
      ],
      "id": "a6b6276a",
      "execution_count": null,
      "outputs": []
    },
    {
      "cell_type": "markdown",
      "metadata": {},
      "source": [
        "Podemos filtrar y quedarnos solo los de una activity\n"
      ],
      "id": "cb12e054"
    },
    {
      "cell_type": "code",
      "metadata": {},
      "source": [
        "activities_ride <- activities[activities$Activity.Type=='Ride',]"
      ],
      "id": "98330df2",
      "execution_count": null,
      "outputs": []
    },
    {
      "cell_type": "markdown",
      "metadata": {},
      "source": [
        "Podemos calcular la media de una columna\n"
      ],
      "id": "dc92143f"
    },
    {
      "cell_type": "code",
      "metadata": {},
      "source": [
        "tiempo_medio_actividades <- mean(activities_ride$Elapsed.Time)\n",
        "paste(\"El tiempo medio de todas las actividades es:\", tiempo_medio_actividades, \"segundos\")\n",
        "paste(\"El tiempo medio de todas las actividades es:\", round(tiempo_medio_actividades/60,3), \"minutos\")\n",
        "\n",
        "paste(\"El tiempo medio de todas las actividades es:\", round(tiempo_medio_actividades/60), \"minutos y \",\n",
        "     round(tiempo_medio_actividades %% 60,1),\"segundos\")"
      ],
      "id": "4cb89b7b",
      "execution_count": null,
      "outputs": []
    },
    {
      "cell_type": "markdown",
      "metadata": {},
      "source": [
        "Podemos pintar La relación entre el tiempo y la distancia:\n"
      ],
      "id": "beaec547"
    },
    {
      "cell_type": "code",
      "metadata": {},
      "source": [
        "options(repr.plot.height=4,repr.plot.width=8, repr.plot.res = 200)\n",
        "\n",
        "library(ggplot2)\n",
        "ggplot(activities_ride, aes(x=Elapsed.Time, y=Distance, color=Activity.Name))+geom_point()+\n",
        "xlab(\"Tiempo [seconds]\")+ylab(\"Distancia [km]\")+ggtitle(\"Comparación de distancia y tiempo\")"
      ],
      "id": "53c04e5e",
      "execution_count": null,
      "outputs": []
    },
    {
      "cell_type": "markdown",
      "metadata": {},
      "source": [
        "Podemos crear diferentes tipos de gráficos sobre la distancia:\n"
      ],
      "id": "a7b20fd7"
    },
    {
      "cell_type": "code",
      "metadata": {},
      "source": [
        "ggplot(activities_ride, aes(x=Activity.Name, y=Distance, color=Activity.Name))+geom_violin()+\n",
        "ylab(\"Distancia [km]\")+ggtitle(\"Comparación de distancia y tiempo\")"
      ],
      "id": "907ee438",
      "execution_count": null,
      "outputs": []
    },
    {
      "cell_type": "code",
      "metadata": {},
      "source": [
        "ggplot(activities_ride, aes(x=Activity.Name, y=Distance, color=Activity.Name))+geom_boxplot()+\n",
        "ylab(\"Distancia [km]\")+ggtitle(\"Comparación de distancia y tiempo\")"
      ],
      "id": "e26e6f22",
      "execution_count": null,
      "outputs": []
    }
  ],
  "metadata": {
    "kernelspec": {
      "display_name": "R",
      "language": "R",
      "name": "ir"
    }
  },
  "nbformat": 4,
  "nbformat_minor": 5
}