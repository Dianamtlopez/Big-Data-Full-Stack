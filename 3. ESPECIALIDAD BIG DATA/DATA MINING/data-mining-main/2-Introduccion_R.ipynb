{
  "cells": [
    {
      "cell_type": "markdown",
      "metadata": {},
      "source": [
        "# Introducción a R\n",
        "\n",
        "R es un lenguaje de programación orientado a la estadística.\n",
        "\n",
        "Algo parecido a SPSS o Matlab.\n",
        "\n",
        "Es código abierto y se entrega bajo licencia GPL (versión 2 o posterior). Además existen multitud de paquetes que complementan su funcionalidad.\n",
        "\n",
        "## Asignaciones\n",
        "\n",
        "Podemos usar <- o el símbolo = para asignar un valor a una variable\n"
      ],
      "id": "0696ffec"
    },
    {
      "cell_type": "code",
      "metadata": {},
      "source": [
        "# se asigna 10 a la variable a\n",
        "a <- 10\n",
        "# se asigna 2 a la variable b\n",
        "b = 2\n",
        "# se asigna texto a la variable c\n",
        "\"texto variable\" -> c"
      ],
      "id": "a3b723a0",
      "execution_count": null,
      "outputs": []
    },
    {
      "cell_type": "code",
      "metadata": {},
      "source": [
        "# para ver las variables\n",
        "print(a)"
      ],
      "id": "a5a0fcea",
      "execution_count": null,
      "outputs": []
    },
    {
      "cell_type": "code",
      "metadata": {},
      "source": [
        "# concatenar texto a una variable\n",
        "# concatena vectores despues de convertirlo a caracteres\n",
        "paste(\"El valor de a es:\",a)\n",
        "paste(\"El vector a es: \", a, \"hola\", sep ='---')"
      ],
      "id": "c309955c",
      "execution_count": null,
      "outputs": []
    },
    {
      "cell_type": "markdown",
      "metadata": {},
      "source": [
        "## Operaciones\n",
        "\n",
        "### Operaciones matemáticas\n"
      ],
      "id": "c8eb9efb"
    },
    {
      "cell_type": "code",
      "metadata": {},
      "source": [
        "b + a    #Suma\n",
        "b * a    #Multiplicación\n",
        "b - a    #Resta\n",
        "b / a    #División: \n",
        "a %/% b  #División entera: \n",
        "a %% b   #Módulo o resto de la división: \n",
        "a ^ b    #Potencia: "
      ],
      "id": "87c0bded",
      "execution_count": null,
      "outputs": []
    },
    {
      "cell_type": "markdown",
      "metadata": {},
      "source": [
        "### Otro tipo de operador\n"
      ],
      "id": "dd81af3a"
    },
    {
      "cell_type": "code",
      "metadata": {},
      "source": [
        "3:10        #Secuencias\n",
        "6 %in% 3:10 #contiene\n",
        "\n",
        "my_sec <- 7:27"
      ],
      "id": "aa559624",
      "execution_count": null,
      "outputs": []
    },
    {
      "cell_type": "markdown",
      "metadata": {},
      "source": [
        "## Funciones básicas\n",
        "\n",
        "Las funciones \n",
        " * siempre acaban en ()\n",
        " * pueden recibir un número variable de parámetros\n",
        " * pueden existir parámetros por defecto\n",
        "\n",
        "Ver las variables en memoria:\n"
      ],
      "id": "20cdf117"
    },
    {
      "cell_type": "code",
      "metadata": {},
      "source": [
        "# lista las variables que se encuentren en memoria\n",
        "ls()"
      ],
      "id": "99fef5b4",
      "execution_count": null,
      "outputs": []
    },
    {
      "cell_type": "markdown",
      "metadata": {},
      "source": [
        "Ver el tipo de variable:\n"
      ],
      "id": "e1998de2"
    },
    {
      "cell_type": "code",
      "metadata": {},
      "source": [
        "typeof(a)"
      ],
      "id": "d9254e1f",
      "execution_count": null,
      "outputs": []
    },
    {
      "cell_type": "markdown",
      "metadata": {},
      "source": [
        "Para concatenar textos usamos paste(a, b, c, ...)\n"
      ],
      "id": "f7ffbe61"
    },
    {
      "cell_type": "code",
      "metadata": {},
      "source": [
        "paste(\"El valor de a es \",a)"
      ],
      "id": "bc7be80f",
      "execution_count": null,
      "outputs": []
    },
    {
      "cell_type": "markdown",
      "metadata": {},
      "source": [
        "# Tipos de datos\n",
        "\n",
        "## Numérico\n"
      ],
      "id": "bbe9c8bf"
    },
    {
      "cell_type": "code",
      "metadata": {},
      "source": [
        "# ver el tipo de variable\n",
        "a <- 20\n",
        "typeof(a)\n",
        "# convertir a entero\n",
        "b <- as.integer(a)\n",
        "typeof(b)\n",
        "c <- as.character(b)\n",
        "typeof(c)\n",
        "d <- T\n",
        "typeof(d)"
      ],
      "id": "e8067b62",
      "execution_count": null,
      "outputs": []
    },
    {
      "cell_type": "markdown",
      "metadata": {},
      "source": [
        "## Texto\n"
      ],
      "id": "1f55ff79"
    },
    {
      "cell_type": "code",
      "metadata": {},
      "source": [
        "s1 <- \" Discovery\"\n",
        "# ver el contenido de la variable\n",
        "s1\n",
        "# tipo de la variable\n",
        "typeof(s1)"
      ],
      "id": "4cc72c52",
      "execution_count": null,
      "outputs": []
    },
    {
      "cell_type": "markdown",
      "metadata": {},
      "source": [
        "## Logical\n"
      ],
      "id": "76a0a028"
    },
    {
      "cell_type": "code",
      "metadata": {},
      "source": [
        "b1 <- TRUE\n",
        "b2 <- T\n",
        "b3 <- FALSE\n",
        "b4 <- F\n",
        "paste(\"El valor de b1 es\",b1)\n",
        "paste(\"El valor de b2 es\",b2)\n",
        "paste(\"El valor de b3 es\",b3)\n",
        "paste(\"El valor de b3 es\",b4)"
      ],
      "id": "6fcd3d7d",
      "execution_count": null,
      "outputs": []
    },
    {
      "cell_type": "markdown",
      "metadata": {},
      "source": [
        "## Vectores\n",
        "\n",
        "Los vectores se crean con la función c(), todos los elementos de un vector son del mismo tipo. Es decir, no se podrían mezclar caracteres y double.\n",
        "\n",
        "En Python se llaman listas:\n",
        "\n",
        "   ```\n",
        "   a = [1,2,3,40]\n",
        "   ```\n",
        "   \n",
        "En Java arrays:\n",
        "```\n",
        "   int[] a={1,2,3,40};\n",
        "```   \n",
        "\n",
        "**En R son vectores:**\n",
        "Función que combina valores\n",
        "```\n",
        "   a = c(1,2,3,40)\n",
        "```   \n"
      ],
      "id": "64064fd6"
    },
    {
      "cell_type": "code",
      "metadata": {},
      "source": [
        "# combina todos los valores y los devuelve en un objeto tipo vector\n",
        "alturas<-c(1.80,1.60,1.50,1.90,1.75,1.63,1.65)\n",
        "print(paste(\"alturas es una variable de tipo:\",typeof(alturas)))"
      ],
      "id": "9ce9b27f",
      "execution_count": null,
      "outputs": []
    },
    {
      "cell_type": "code",
      "metadata": {},
      "source": [
        "alturas"
      ],
      "id": "d8ba6cda",
      "execution_count": null,
      "outputs": []
    },
    {
      "cell_type": "markdown",
      "metadata": {},
      "source": [
        "Obtener más información de la estructura de una variable"
      ],
      "id": "9e882aca"
    },
    {
      "cell_type": "code",
      "metadata": {},
      "source": [
        "str(alturas)"
      ],
      "id": "4cc42f86",
      "execution_count": null,
      "outputs": []
    },
    {
      "cell_type": "code",
      "metadata": {},
      "source": [
        "# vector tipo texto\n",
        "myTxt     <- c(\"rojo\",\"verde\",\"azul\")\n",
        "myTxt\n",
        "str(myTxt)"
      ],
      "id": "55f91581",
      "execution_count": null,
      "outputs": []
    },
    {
      "cell_type": "markdown",
      "metadata": {},
      "source": [
        "#### Acceso a elementos:\n"
      ],
      "id": "eb182198"
    },
    {
      "cell_type": "code",
      "metadata": {},
      "source": [
        "# en R los vectores inician en 1\n",
        "print(paste(\"El valor del tercer elemento es:\",alturas[3]))\n",
        "# longitud del numero de elementos\n",
        "length(alturas)\n",
        "# ultimo elemento del vector\n",
        "alturas[length(alturas)]\n",
        "# ver varios elementos de un vector, la c, genera un vector\n",
        "alturas[c(1, 2, 3)]\n",
        "# separar elementos con una coma se debe hacer por medio de colapse\n",
        "paste(alturas[c(1, 2, 3)], collapse = ', ')\n",
        "# mostrar texto más el vector separado por comas\n",
        "paste(\"Alturas del 1 al 3: \", paste(alturas[c(1, 2, 3)], collapse = ', '))\n",
        "# almacenar las tres alturas en una variable\n",
        "las_3_alturas <- paste(alturas[c(1, 2, 3)], collapse = ', ')\n",
        "# mostrar texto más el vector separado por comas\n",
        "paste(\"Alturas del 1 al 3: \", las_3_alturas)"
      ],
      "id": "4d5b4d5c",
      "execution_count": null,
      "outputs": []
    },
    {
      "cell_type": "markdown",
      "metadata": {},
      "source": [
        "**¡¡En R los vectores empiezan en 1!!**\n",
        "\n",
        "## Data Frame\n",
        "\n",
        "Un Dataframe es una tabla como la que podemos encontrar en cualquier hoja de calculo.\n",
        "\n",
        "![](pics/ejemplo_dataframe.png)\n",
        "\n",
        "La información se estructura en columnas, cada columna puede ser de un tipo de variable diferente: categorica, numerica, fecha, etc..\n",
        "\n",
        "Cada fila representa un elemento u objeto cuyos atributos están representados por las columnas.\n"
      ],
      "id": "f53fbc8f"
    },
    {
      "cell_type": "code",
      "metadata": {},
      "source": [
        "#Generar un dataframe\n",
        "df <- data.frame(Animal=c('Perro', 'Periquito', 'Gato', 'Caballo'),\n",
        "                 Cantidad=c(10,3,4,1),\n",
        "                 Peso=c(30, 0.01, 2, 500))"
      ],
      "id": "65677b26",
      "execution_count": null,
      "outputs": []
    },
    {
      "cell_type": "code",
      "metadata": {},
      "source": [
        "# igual que los vectores, tienen un indice de acceso\n",
        "df"
      ],
      "id": "edd1b8a8",
      "execution_count": null,
      "outputs": []
    },
    {
      "cell_type": "markdown",
      "metadata": {},
      "source": [
        "Podemos acceder a por filas y columnas:\n"
      ],
      "id": "fb4d932e"
    },
    {
      "cell_type": "code",
      "metadata": {},
      "source": [
        "# Acceder a la primera fila (filas coma columna)\n",
        "df[1,]"
      ],
      "id": "4f0f62b1",
      "execution_count": null,
      "outputs": []
    },
    {
      "cell_type": "code",
      "metadata": {},
      "source": [
        "# Acceder a la segunda columna (filas coma columna)\n",
        "df[,2]"
      ],
      "id": "d7f7ab3f",
      "execution_count": null,
      "outputs": []
    },
    {
      "cell_type": "code",
      "metadata": {},
      "source": [
        "# Acceder por nombre\n",
        "df$Cantidad"
      ],
      "id": "cc3377a7",
      "execution_count": null,
      "outputs": []
    },
    {
      "cell_type": "code",
      "metadata": {},
      "source": [
        "# Acceder por nombre\n",
        "df[,'Cantidad']"
      ],
      "id": "4c4aa806",
      "execution_count": null,
      "outputs": []
    },
    {
      "cell_type": "code",
      "metadata": {},
      "source": [
        "# Acceder por nombre en forma de columna\n",
        "df['Cantidad']"
      ],
      "id": "374d84fb",
      "execution_count": null,
      "outputs": []
    },
    {
      "cell_type": "code",
      "metadata": {},
      "source": [
        "# Podemos buscar aquellos que pesan más de 20kg\n",
        "df[df$Peso>20,]"
      ],
      "id": "b217701d",
      "execution_count": null,
      "outputs": []
    },
    {
      "cell_type": "code",
      "metadata": {},
      "source": [
        "# simplemente se hace la pregunta df$Peso>20\n",
        "df$Peso>20"
      ],
      "id": "8edd4efe",
      "execution_count": null,
      "outputs": []
    },
    {
      "cell_type": "code",
      "metadata": {},
      "source": [
        "# Le digo, devuelveme el primero y el cuarto\n",
        "df[c(TRUE, FALSE, FALSE, TRUE),]"
      ],
      "id": "4d0c0dc9",
      "execution_count": null,
      "outputs": []
    },
    {
      "cell_type": "code",
      "metadata": {},
      "source": [
        "# Le digo, devuelveme el primero y el cuarto otra manera\n",
        "df[c(1,3),]"
      ],
      "id": "185fb658",
      "execution_count": null,
      "outputs": []
    },
    {
      "cell_type": "code",
      "metadata": {},
      "source": [
        "# Podemos buscar aquellos que pesan más de 20kg\n",
        "df[df[,'Peso'] > 20,]"
      ],
      "id": "30a2e193",
      "execution_count": null,
      "outputs": []
    },
    {
      "cell_type": "code",
      "metadata": {},
      "source": [
        "# filtrar y combinar columnas\n",
        "paste('Los animales que pesan más de 20kg son:', paste(df[df$Peso>20,'Animal'], collapse=','))"
      ],
      "id": "170c3dc0",
      "execution_count": null,
      "outputs": []
    },
    {
      "cell_type": "code",
      "metadata": {},
      "source": [
        "# Devuelve un df con los datos\n",
        "df[df$Peso>20,]"
      ],
      "id": "da8c4682",
      "execution_count": null,
      "outputs": []
    },
    {
      "cell_type": "code",
      "metadata": {},
      "source": [
        "# Devuelve los animales de la consulta\n",
        "df[df$Peso>20, \"Animal\"]\n",
        "# de otra manera\n",
        "df[df$Peso>20,]$Animal"
      ],
      "id": "7cca7fdc",
      "execution_count": null,
      "outputs": []
    },
    {
      "cell_type": "code",
      "metadata": {},
      "source": [
        "# Devuelve los animales de la consulta\n",
        "paste(df[df$Peso>20, \"Animal\"], collapse=' - ')"
      ],
      "id": "37117905",
      "execution_count": null,
      "outputs": []
    },
    {
      "cell_type": "markdown",
      "metadata": {},
      "source": [
        "También podemos utilizar la función which() por dos motivos:\n",
        "* Tiene en cuenta los NA\n",
        "* Es ligeramente más rápido"
      ],
      "id": "0bcd391b"
    },
    {
      "cell_type": "code",
      "metadata": {},
      "source": [
        "# esto me dice en cual hay true, en el 1 y el 4\n",
        "which(df$Peso>20)"
      ],
      "id": "bf6efa71",
      "execution_count": null,
      "outputs": []
    },
    {
      "cell_type": "code",
      "metadata": {},
      "source": [
        "# Maneja datos más rapidamente\n",
        "df[which(df$Peso>20),]"
      ],
      "id": "adbaad04",
      "execution_count": null,
      "outputs": []
    },
    {
      "cell_type": "code",
      "metadata": {},
      "source": [
        "df[c(1,4),]"
      ],
      "id": "abcbffe9",
      "execution_count": null,
      "outputs": []
    },
    {
      "cell_type": "markdown",
      "metadata": {},
      "source": [
        "### Ejemplo: Actividad deportiva\n"
      ],
      "id": "519bcf8a"
    },
    {
      "cell_type": "code",
      "metadata": {},
      "source": [
        "activities<-read.csv('data/activities_strava.csv', stringsAsFactor=T)\n",
        "head(activities)"
      ],
      "id": "da3b1a3c",
      "execution_count": null,
      "outputs": []
    },
    {
      "cell_type": "markdown",
      "metadata": {},
      "source": [
        "para saber el tamaño del fichero"
      ],
      "id": "28a2904d"
    },
    {
      "cell_type": "code",
      "metadata": {},
      "source": [
        "object.size(activities)"
      ],
      "id": "3d7027af",
      "execution_count": null,
      "outputs": []
    },
    {
      "cell_type": "markdown",
      "metadata": {},
      "source": [
        "para saber la cantidad de filas"
      ],
      "id": "0a90e5c0"
    },
    {
      "cell_type": "code",
      "metadata": {},
      "source": [
        "nrow(activities)"
      ],
      "id": "c9dd441a",
      "execution_count": null,
      "outputs": []
    },
    {
      "cell_type": "markdown",
      "metadata": {},
      "source": [
        "podemos ver su estructura"
      ],
      "id": "e2f130af"
    },
    {
      "cell_type": "code",
      "metadata": {},
      "source": [
        "str(activities)"
      ],
      "id": "28ca683e",
      "execution_count": null,
      "outputs": []
    },
    {
      "cell_type": "markdown",
      "metadata": {},
      "source": [
        "ver las columnas"
      ],
      "id": "1d079bb0"
    },
    {
      "cell_type": "code",
      "metadata": {},
      "source": [
        "colnames(activities)"
      ],
      "id": "0423c9d8",
      "execution_count": null,
      "outputs": []
    },
    {
      "cell_type": "markdown",
      "metadata": {},
      "source": [
        "Nos podemos quedar con ciertas columnas de interés:\n"
      ],
      "id": "3ee482bc"
    },
    {
      "cell_type": "code",
      "metadata": {},
      "source": [
        "activities <- activities[,c('Activity.Name', 'Activity.Type', 'Elapsed.Time', 'Distance')]\n",
        "activities$duracion_minutos <- activities$Elapsed.Time/60\n",
        "# nos enseña 6 filas\n",
        "head(activities)"
      ],
      "id": "0f4a3afb",
      "execution_count": null,
      "outputs": []
    },
    {
      "cell_type": "markdown",
      "metadata": {},
      "source": [
        "podemos ver su estructura"
      ],
      "id": "5b0aae1f"
    },
    {
      "cell_type": "code",
      "metadata": {},
      "source": [
        "str(activities)"
      ],
      "id": "a9830ffa",
      "execution_count": null,
      "outputs": []
    },
    {
      "cell_type": "markdown",
      "metadata": {},
      "source": [
        "ver los nombres de las columnas"
      ],
      "id": "c5d36a9a"
    },
    {
      "cell_type": "code",
      "metadata": {},
      "source": [
        "colnames(activities)"
      ],
      "id": "74e9d1f4",
      "execution_count": null,
      "outputs": []
    },
    {
      "cell_type": "markdown",
      "metadata": {},
      "source": [
        "cambiar el nombre de las columnas"
      ],
      "id": "7f8136ea"
    },
    {
      "cell_type": "code",
      "metadata": {},
      "source": [
        "colnames(activities) <- c('Nombre_actividad', 'Tipo_actividad', 'Duracion_segundos', 'Distancia', 'Duracion_minutos')\n",
        "str(activities)"
      ],
      "id": "8fa735d4",
      "execution_count": null,
      "outputs": []
    },
    {
      "cell_type": "markdown",
      "metadata": {},
      "source": [
        "el rownames(activities), no se utiliza, ni las librerias lo hacen, se puede dar nombre, pero no se usa"
      ],
      "id": "f8c03af3"
    },
    {
      "cell_type": "code",
      "metadata": {},
      "source": [
        "rownames(activities)[1] <- 'Actividad1'\n",
        "# ver el nombre de la fila creado\n",
        "head(activities)"
      ],
      "id": "df49c719",
      "execution_count": null,
      "outputs": []
    },
    {
      "cell_type": "code",
      "metadata": {},
      "source": [
        "# Resumen de las actividades\n",
        "summary(activities)"
      ],
      "id": "8463bb52",
      "execution_count": null,
      "outputs": []
    },
    {
      "cell_type": "markdown",
      "metadata": {},
      "source": [
        "cuando se carga el dataframe se coloca stringsAsFactor=T, esto es para que nos cree las categorías o variables categoricas (cadenas de texto como factor), lo anterior separa los valorces por estas categorías y no combina la informacion\n",
        "\n",
        "\n",
        "Podemos quedarnos solo con las actividades del tipo \"Afternoon Ride\" y con un tiempo inferior a 30 minutos:\n"
      ],
      "id": "a8aefb8b"
    },
    {
      "cell_type": "code",
      "metadata": {},
      "source": [
        "afternoon_activity <- activities[\n",
        "  which(activities$Nombre_actividad=='Afternoon Ride' &\n",
        "    activities$Duracion_minutos<30),]\n",
        "# Visualizar los 6 primeros\n",
        "head(afternoon_activity)"
      ],
      "id": "d4d5a31c",
      "execution_count": null,
      "outputs": []
    },
    {
      "cell_type": "code",
      "metadata": {},
      "source": [
        "# sumary: nos da un resumen de todas las columnas, \n",
        "# si es factor, solo nos cuenta el numero de entradas de ese valor\n",
        "# si es una variable numerica, nos da ciertos estimadores estadisticos como la media, mediana y cuariles, el minimo, el maximo\n",
        "# de esta manera nos hacemos una idea de como se distribuyen los valores, a diferencia de str que nos dice las estructuras que tenemos\n",
        "summary(afternoon_activity)"
      ],
      "id": "b26491b0",
      "execution_count": null,
      "outputs": []
    },
    {
      "cell_type": "markdown",
      "metadata": {},
      "source": [
        "podemos obtener la actividad que ha durado mas de 15 minutos y menos de 30 minutos"
      ],
      "id": "dd446184"
    },
    {
      "cell_type": "code",
      "metadata": {},
      "source": [
        "afternoon_activity_30_15 <- activities[\n",
        "  which(activities$Nombre_actividad=='Afternoon Ride' &\n",
        "    activities$Duracion_minutos>15 & \n",
        "      activities$Duracion_minutos<30),]\n",
        "# Visualizar los 6 primeros\n",
        "head(afternoon_activity_30_15)"
      ],
      "id": "40a005b5",
      "execution_count": null,
      "outputs": []
    },
    {
      "cell_type": "markdown",
      "metadata": {},
      "source": [
        "Podemos quedarnos solo con las actividades del tipo \"Afternoon Ride\" o \"Morning Ride\" y con un tiempo inferior a 30\n",
        "minutos y superior a 15 minutos:"
      ],
      "id": "f23a2ea7"
    },
    {
      "cell_type": "code",
      "metadata": {},
      "source": [
        "afternoon_activity_30_15 <- activities[\n",
        "  which((activities$Nombre_actividad=='Afternoon Ride'|\n",
        "         activities$Nombre_actividad=='Morning Ride')&\n",
        "    activities$Duracion_minutos>15 & \n",
        "      activities$Duracion_minutos<30),]\n",
        "# Visualizar los 6 primeros\n",
        "head(afternoon_activity_30_15)"
      ],
      "id": "d09e981a",
      "execution_count": null,
      "outputs": []
    },
    {
      "cell_type": "code",
      "metadata": {},
      "source": [
        "summary(afternoon_activity_30_15)"
      ],
      "id": "54e81cd1",
      "execution_count": null,
      "outputs": []
    },
    {
      "cell_type": "markdown",
      "metadata": {},
      "source": [
        "Lo mismo:"
      ],
      "id": "0b14eb04"
    },
    {
      "cell_type": "code",
      "metadata": {},
      "source": [
        "afternoon_activity_30_15_1 <- activities[\n",
        "  which(activities$Nombre_actividad %in% c('Afternoon Ride','Morning Ride')&\n",
        "    activities$Duracion_minutos>15 & \n",
        "      activities$Duracion_minutos<30),]\n",
        "# Visualizar los 6 primeros\n",
        "head(afternoon_activity_30_15_1)"
      ],
      "id": "425c2662",
      "execution_count": null,
      "outputs": []
    },
    {
      "cell_type": "code",
      "metadata": {},
      "source": [
        "summary(afternoon_activity_30_15_1)"
      ],
      "id": "79c4651c",
      "execution_count": null,
      "outputs": []
    }
  ],
  "metadata": {
    "kernelspec": {
      "display_name": "R",
      "language": "R",
      "name": "ir"
    }
  },
  "nbformat": 4,
  "nbformat_minor": 5
}