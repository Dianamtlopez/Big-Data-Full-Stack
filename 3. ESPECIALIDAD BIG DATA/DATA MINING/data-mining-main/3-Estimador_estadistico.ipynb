{
  "cells": [
    {
      "cell_type": "raw",
      "metadata": {},
      "source": [
        "---\n",
        "editor:\n",
        "  markdown:\n",
        "    wrap: 72\n",
        "---"
      ],
      "id": "86015e14"
    },
    {
      "cell_type": "markdown",
      "metadata": {},
      "source": [
        "# Funciones en R\n",
        "\n",
        "Vamos a crear nuestra primera función para restar dos números.\n"
      ],
      "id": "02f0bff8"
    },
    {
      "cell_type": "code",
      "metadata": {},
      "source": [
        "restaDosNumeros<-function(x,y){\n",
        "    z <- x-y\n",
        "    return(z)\n",
        "}"
      ],
      "id": "421611e7",
      "execution_count": null,
      "outputs": []
    },
    {
      "cell_type": "code",
      "metadata": {},
      "source": [
        "restaDosNumeros(10,7)"
      ],
      "id": "ce0b295e",
      "execution_count": null,
      "outputs": []
    },
    {
      "cell_type": "code",
      "metadata": {},
      "source": [
        "# tambien podemos invertir el orden\n",
        "restaDosNumeros(y=10,x=7)"
      ],
      "id": "3d2e5edb",
      "execution_count": null,
      "outputs": []
    },
    {
      "cell_type": "markdown",
      "metadata": {},
      "source": [
        "Podemos definir parámetros opcionales con un valor por defecto.\n"
      ],
      "id": "b780fabd"
    },
    {
      "cell_type": "code",
      "metadata": {},
      "source": [
        "restaDosNumerosConEscala<-function(x,y,scale = 1){\n",
        "    z <- (x-y)*scale\n",
        "    return(z)\n",
        "}"
      ],
      "id": "b1e1c0f9",
      "execution_count": null,
      "outputs": []
    },
    {
      "cell_type": "code",
      "metadata": {},
      "source": [
        "restaDosNumerosConEscala(10,7)"
      ],
      "id": "3af9961b",
      "execution_count": null,
      "outputs": []
    },
    {
      "cell_type": "markdown",
      "metadata": {},
      "source": [
        "## Estimador estadístico\n",
        "\n",
        "Un estimador es un estadístico al que se le exigen ciertas condiciones\n",
        "para que pueda calcular con ciertas garantías ciertos parámetros de una\n",
        "población.\n",
        "\n",
        "Es decir, un estimador es un estadístico. Ahora bien, no es un\n",
        "estadístico cualquiera. Es un estadístico con ciertas propiedades. Un\n",
        "ejemplo podría ser la media o la varianza. Estas métricas tan conocidas,\n",
        "son estimadores.\n",
        "\n",
        "En primer lugar, debemos entender que cuando realizamos un estudio de\n",
        "investigación, normalmente, queremos estudiar cierto parámetro.\n",
        "\n",
        "Por ejemplo, queremos estudiar cuál es la altura media de los árboles en\n",
        "cierta ciudad. La variable objeto de estudio es la altura de los árboles\n",
        "en cierta ciudad. Mientras que, el parámetro es la altura media de los\n",
        "árboles de esa ciudad.\n",
        "\n",
        "Vamos a ver varios ejemplos de funciones en R utilizando estimadores\n",
        "estadísticos.\n",
        "\n",
        "Un [estimador](https://es.wikipedia.org/wiki/Estimador) es un\n",
        "estadístico (esto es, una función de la muestra) usado para estimar un\n",
        "parámetro desconocido de la población.\n",
        "\n",
        "Un estimador es una función que coge valores de una muestra de datos y\n",
        "hace un resumen, **estima un valor que define la muestra**.\n",
        "\n",
        "Como ejemplo de población utilizaremos el siguiente vector de tiempos de\n",
        "duración de un evento.\n"
      ],
      "id": "9540ebdd"
    },
    {
      "cell_type": "code",
      "metadata": {},
      "source": [
        "activities<-read.csv('data/activities_strava.csv', stringsAsFactor=T)\n",
        "activities$duracion_minutos <- activities$Elapsed.Time/60\n",
        "# Duracion de todas las actividades realizadas por la tarde\n",
        "duracion_afternoon <- activities[activities$Activity.Name=='Afternoon Ride','duracion_minutos']"
      ],
      "id": "3f1024b4",
      "execution_count": null,
      "outputs": []
    },
    {
      "cell_type": "markdown",
      "metadata": {},
      "source": [
        "### Media aritmética\n",
        "\n",
        "En matemáticas y estadística, la [media\n",
        "aritmética](https://es.wikipedia.org/wiki/Media_aritm%C3%A9tica)\n",
        "(también llamada promedio o media) de un conjunto finito de números es\n",
        "el valor característico de una serie de datos cuantitativos, objeto de\n",
        "estudio que parte del principio de la esperanza matemática o valor\n",
        "esperado, se obtiene a partir de la suma de todos sus valores dividida\n",
        "entre el número de sumandos.\n",
        "\n",
        "\\[ \\bar{x} = (\\frac{1}{N}) \\sum \\{i=1} \\ ^ N x_i\\\\\\]\n",
        "\n",
        "media aritmética se suman todos los elementos Xi y se divide entre el\n",
        "número de muestras\n",
        "\n",
        "En R la función de la media se podría definir así:\n"
      ],
      "id": "3306b521"
    },
    {
      "cell_type": "code",
      "metadata": {},
      "source": [
        "# variable my_media, va a recibir un vector x\n",
        "my_mean <- function(X){\n",
        "  # Itera en todos los elementos de x y los sumamos entre si\n",
        "  m <- 0\n",
        "  for (xi in X){\n",
        "    m <- m+xi\n",
        "  }\n",
        "  # es equivalente al for m <- sum(X)\n",
        "  # Se devuelve m/numero de muestras de x\n",
        "  return(m/length(X))\n",
        "}"
      ],
      "id": "7a491c9a",
      "execution_count": null,
      "outputs": []
    },
    {
      "cell_type": "code",
      "metadata": {},
      "source": [
        "# calcula la media de la columna duracion_afternoon por medio de una función hecha\n",
        "my_mean(duracion_afternoon)\n",
        "# Funcion interna de R\n",
        "mean(duracion_afternoon)"
      ],
      "id": "bf5b536e",
      "execution_count": null,
      "outputs": []
    },
    {
      "cell_type": "markdown",
      "metadata": {},
      "source": [
        "Evidentemente R tiene una función para la media cuya ejecución es mucho\n",
        "más rápida que nuestra función:\n"
      ],
      "id": "3306cb4f"
    },
    {
      "cell_type": "code",
      "metadata": {},
      "source": [
        "# la media es muy sencible a outlayers\n",
        "mean(duracion_afternoon)"
      ],
      "id": "85e12206",
      "execution_count": null,
      "outputs": []
    },
    {
      "cell_type": "markdown",
      "metadata": {},
      "source": [
        "### Media truncada\n",
        "\n",
        "La media truncada se utiliza cuando queremos quitar los $2p$ elementos\n",
        "más extremos ($p$ elementos por arriba y $p$ por abajo) del array del\n",
        "cómputo de la media. La media truncada es un estimador más robusto que\n",
        "la media.\n",
        "\n",
        "\\\\\\[ \\bar{x} = \\frac{1}{N-2p} \\sum \\_{i=p+1}\\^{N-p} x_i\\\\\\]\n",
        "\n",
        "Los valores atípicos pueden afectar la media (especialmente si solo hay uno o dos valores muy grandes), por lo que una media recortada a menudo puede ser más adecuada para conjuntos de datos con valores altos o bajos erráticos o para distribuciones extremadamente sesgadas.\n",
        "\n",
        "Estas medias se expresan en porcentajes. El porcentaje le dice qué porcentaje de datos eliminar. Por ejemplo, con una media recortada del 5 %, se excluyen el 5 % más bajo y el 5 % más alto de los datos. La media se calcula a partir del 90 % restante de los puntos de datos.\n",
        "\n",
        "En R se utiliza la función $mean$ con el parámetro $trim$ que indica que\n",
        "porcentaje de elementos del array eliminamos antes de hacer la media\n"
      ],
      "id": "85662ed4"
    },
    {
      "cell_type": "code",
      "metadata": {},
      "source": [
        "# Como el primer valor de la secuencia es atipico, le decimos que inicie de la posicion 2 en adelante\n",
        "mean(duracion_afternoon[2:length(duracion_afternoon)])"
      ],
      "id": "81e88f20",
      "execution_count": null,
      "outputs": []
    },
    {
      "cell_type": "code",
      "metadata": {},
      "source": [
        "# He quitado los valores extremos, el 20% de las muestras mas altas y el 20 de las muestras mas bajas\n",
        "mean(duracion_afternoon,trim = 0.2)"
      ],
      "id": "6437cb7b",
      "execution_count": null,
      "outputs": []
    },
    {
      "cell_type": "markdown",
      "metadata": {},
      "source": [
        "La fracción (0 a 0,5) de las observaciones que se recortarán de cada extremo de x antes de calcular la media. Los valores de recorte fuera de ese rango se toman como el punto final más cercano\n"
      ],
      "id": "09e9ded0"
    },
    {
      "cell_type": "code",
      "metadata": {},
      "source": [
        "?mean"
      ],
      "id": "02797eb1",
      "execution_count": null,
      "outputs": []
    },
    {
      "cell_type": "markdown",
      "metadata": {},
      "source": [
        "filtrar para que me queden los valores <= 100"
      ],
      "id": "afaee6c9"
    },
    {
      "cell_type": "code",
      "metadata": {},
      "source": [
        "duracion_afternoon_filtrado <- duracion_afternoon[duracion_afternoon <= 100]\n",
        "duracion_afternoon_filtrado"
      ],
      "id": "66e10047",
      "execution_count": null,
      "outputs": []
    },
    {
      "cell_type": "markdown",
      "metadata": {},
      "source": [
        "which nos muestra la secuencia"
      ],
      "id": "3bb2e922"
    },
    {
      "cell_type": "code",
      "metadata": {},
      "source": [
        "# No me muestra el primero ya que ese es el valor atipico y no está en el filtro\n",
        "which(duracion_afternoon<=100)"
      ],
      "id": "4af92842",
      "execution_count": null,
      "outputs": []
    },
    {
      "cell_type": "markdown",
      "metadata": {},
      "source": [
        "### Varianza / desviación típica\n",
        "\n",
        "La [variancia](https://es.wikipedia.org/wiki/Varianza) (que suele\n",
        "representarse como $\\sigma ^{2}$,$s^2$ o $Var(X)$) de una variable\n",
        "aleatoria es una medida de dispersión definida como la esperanza del\n",
        "cuadrado de la desviación de dicha variable respecto a su media. O en\n",
        "pocas palabras, es la media de los residuos al cuadrado.\n",
        "\n",
        "Es decir, define lo mucho que varía una variable aleatoria respecto a la\n",
        "media: \\* Si todos los valores son iguales, no hay variación, la\n",
        "varianza es 0. \\* Si los valores son muy diferentes unos de otros la\n",
        "varianza es alta.\n",
        "\n",
        "El motivo de usar el cuadrado es porque queremos ver lo mucho que cambia\n",
        "cada elemento sin importar su signo, si cambia por *arriba* o por\n",
        "*abajo*, el signo se elimina. El hecho de ser una función al cuadrado\n",
        "también da mayor importancia a los valores extremos. El problema que\n",
        "esto origina es que las unidades de la varianza están también al\n",
        "cuadrado, por ello, a veces se utiliza la **desviación típica**.\n",
        "\n",
        "La raíz cuadrada de la *varianza* es la **desviación típica** que indica\n",
        "**como de típica es la desviación respecto a la media en sus mismas\n",
        "unidades**.\n",
        "\n",
        "\\\\\\[ Var[x]\\ = \\frac{1}{N-1} \\sum_{i=1}^N \\left( x_i-\\bar{x}\n",
        "\\right)^2 \\\\\\]\n",
        "\n",
        "donde:\n",
        "\\\\\\[ x_i \\ = valor\\ de\\ la\\ muestra\\\\\\]\n",
        "\\\\\\[ \\left(\\bar{x}\\right) = valor\\ de\\ la\\ media \\ o\\ el\\ valor\\ que\\ puedo\\ esperar\\ (Esperanza)\\\\\\]\n",
        "\n",
        "Se suman todos los resultados de:\n",
        "\\\\\\[\\left( x_i-\\bar{x}\\right)^2 \\\\\\]\n",
        "\n",
        "Se divide entre:\n",
        "\\\\\\[\\frac{1}{N-1}\\\\\\]\n",
        "\n",
        "Nos da como resultado:\n",
        "\\\\\\[ Var[x]\\ = \\frac{\\sum_{i=1}^N \\left( x_i-\\bar{x}\n",
        "\\right)^2}{N-1}\\\\\\]\n",
        "\n",
        "La varianza es una medida de dispersión que representa la variabilidad de una serie de datos respecto a su media. Formalmente se calcula como la suma de los residuos al cuadrado divididos entre el total de observaciones.\n",
        "\n",
        "\n",
        "En R la función de la varianza se podría definir así:\n"
      ],
      "id": "20c6f5c6"
    },
    {
      "cell_type": "code",
      "metadata": {},
      "source": [
        "myVar <- function(X){\n",
        "  m <- mean(X)\n",
        "  v <- 0\n",
        "  for(xi in X){\n",
        "    v <- v + (xi - m)^2\n",
        "  }\n",
        "  total <- v / (length(X) -1)\n",
        "  return(total)\n",
        "}"
      ],
      "id": "fa3ff8bc",
      "execution_count": null,
      "outputs": []
    },
    {
      "cell_type": "code",
      "metadata": {},
      "source": [
        "# la varianza son minutos al cuadrado\n",
        "print(paste(\"La varianza es:\", myVar(duracion_afternoon)))\n",
        "# La desviacion tipica es la raiz cuadrada de la varianza, la desviacion tipica son minutos\n",
        "print(paste(\"La desviación típica es:\",sqrt(myVar(duracion_afternoon))))"
      ],
      "id": "32655552",
      "execution_count": null,
      "outputs": []
    },
    {
      "cell_type": "markdown",
      "metadata": {},
      "source": [
        "Evidentemente R tiene una función para la varianza (*var*) y la\n",
        "desviación típica (*sd*) cuya ejecución es mucho más rápida que nuestra\n",
        "función:\n"
      ],
      "id": "bcb8b50d"
    },
    {
      "cell_type": "code",
      "metadata": {},
      "source": [
        "# Funciones propias de R \n",
        "# varianza minutos al cuadrado\n",
        "print(paste(\"La varianza es:\",var(duracion_afternoon)))\n",
        "# La desviacion tipica es la raiz cuadrada de la varianza, la desviacion tipica son minutos\n",
        "print(paste(\"La desviación típica es:\",sd(duracion_afternoon)))"
      ],
      "id": "626ab1fe",
      "execution_count": null,
      "outputs": []
    },
    {
      "cell_type": "markdown",
      "metadata": {},
      "source": [
        "cuando trabajamos con distribuciones gausianas, la media y la varianza suelen ser buenas porque aproximadamente el 96% o 95% de los datos, está entre 1 y 2 de desviaciones estandar\n",
        "\n",
        "* si tenemos una deviacion tipica hacia la derecha e izquierda tenemos el 68% de los datos\n",
        "* si tenemos 2 desviaciones tipicas hacia la derecha e izquierda tenemos el 95% de los datos\n",
        "* si tenemos 3 desviaciones tipicas hacia la derecha e izquierda tenemos el 99.7% que equivale al 100% de los datos\n",
        "\n",
        "![](pics/gaus.jpg)\n",
        "\n",
        "### Mediana\n",
        "\n",
        "La mediana es el valor de una distribución tal que la mitad de los\n",
        "elementos son superiores (por encima) y la mitad son inferiores (por debajo.\n",
        "\n",
        "cuando tenemos distribuciones simetricas, la media y la mediana son iguales, en distribuciones gausianas\n"
      ],
      "id": "658c9a62"
    },
    {
      "cell_type": "code",
      "metadata": {},
      "source": [
        "# tenemos una secuencia de numeros sencilla longitud impar\n",
        "my_seq <- c(5, 7, 10, 6, 1)\n",
        "# la mediana es el numero a partir del cual hay tamtos elementos mayores como menores\n",
        "# verificamos si la longitud es par o impar\n",
        "# 1. ordenamos el vector\n",
        "sort(my_seq)\n",
        "# 2. sacamos la longitud del vector\n",
        "length(my_seq)\n",
        "# 3. dividomos la longitud de ese vector entre 2\n",
        "length(my_seq)/2\n",
        "# 4. para quedarnos con la parte mas baja o piso\n",
        "floor(length(my_seq)/2)\n",
        "# para quedarnos con la parte mas alta o techo\n",
        "# selling(length(my_seq)/2)\n",
        "# 5. como el arraid inicia en 1 hay que sumar 1\n",
        "floor(length(my_seq)/2) + 1\n",
        "# Finalmente la mediana es el valor que está en esa posicion\n",
        "sort(my_seq)[floor(length(my_seq)/2)+1]"
      ],
      "id": "81eaa1c8",
      "execution_count": null,
      "outputs": []
    },
    {
      "cell_type": "code",
      "metadata": {},
      "source": [
        "# Cuando la longitud del vector es par, se divide entre 2, se coge la posicion anterior y la siguiente, y se calcula la media\n",
        "# tenemos una secuencia de numeros sencilla longitud impar\n",
        "my_seq1 <- c(5, 7, 10, 6, 1, 4)\n",
        "# Creo la funcion\n",
        "myMedian <- function(X){\n",
        "  # ordenar el vector\n",
        "  x <- sort(X)\n",
        "  i <- ((length(x)+1)/2)\n",
        "  # verificar si el vector es paro impar\n",
        "  if(round(i)==i){\n",
        "    # en el caso de impar\n",
        "    my_median <- (x[i])\n",
        "  }else{\n",
        "    # en el caso de par\n",
        "    my_median <- ((x[floor(i)]+x[ceiling(i)])/2)\n",
        "  }\n",
        "  return(my_median)\n",
        "}\n",
        "myMedian(my_seq1)"
      ],
      "id": "85f2fa7f",
      "execution_count": null,
      "outputs": []
    },
    {
      "cell_type": "code",
      "metadata": {},
      "source": [
        "# mediana\n",
        "myMedian(duracion_afternoon)"
      ],
      "id": "970a5d19",
      "execution_count": null,
      "outputs": []
    },
    {
      "cell_type": "markdown",
      "metadata": {},
      "source": [
        "Como siempre es aconsejable utilizar la función que R ha preparado\n"
      ],
      "id": "e5aea645"
    },
    {
      "cell_type": "code",
      "metadata": {},
      "source": [
        "# mediana\n",
        "median(duracion_afternoon)"
      ],
      "id": "6702c146",
      "execution_count": null,
      "outputs": []
    },
    {
      "cell_type": "markdown",
      "metadata": {},
      "source": [
        "Media y mediana no tienen porqué ser iguales. Ejemplo salarios brutos\n",
        "españoles de 2020 [Fuente](http://www.ine.es/prensa/epa_2016_d.pdf): \\*\n",
        "**Salario medio:** 25.165,51€/mes \\* **Salario mediano:** 20.920,12€/mes\n",
        "\n",
        "Esto indica que hay poca gente con sueldos muy altos que sube la media,\n",
        "la distribución no es simétrica.\n",
        "\n",
        "![](pics/salario_medio_espa%C3%B1a.png)\n",
        "\n",
        "### Cuartiles\n",
        "\n",
        "Los [cuartiles](https://es.wikipedia.org/wiki/Cuartil) son los tres\n",
        "valores que dividen un conjunto de datos ordenados en cuatro partes\n",
        "porcentualmente iguales. \n",
        "\\* Q1: El 25% de las muestras se encuentran por debajo del primer cuartil. \n",
        "\\* Q2: El 50% de las muestras se encuentran por debajo del segundo cuartil. Este valor también se le conoce como *mediana* \n",
        "\\* Q3: El 75% de las muestras se encuentran por debajo del tercer cuartil. \n",
        "\\* Rango intercuantílico (IQR): Q3-Q1\n",
        "\n",
        "Una forma muy práctica de mostrar estos valores es con el diagrama de\n",
        "cajas (boxplot en inglés). El boxplot se compone de: \n",
        "\\* Caja (Box): El lado superior indica el lugar de Q3, el lado inferior es Q1 y la línea que lo atraviesa es Q2 \n",
        "\\* Bigotes (Whiskers): Dos líneas que se exitienden 1.5 veces el IQR desde Q3 y desde Q1. \n",
        "\\* Valores atípicos (Outlayers): Valores que se encuentran fuera de los bigotes.\n",
        "Se llaman cuartiles porque nos deja los datos divididos en grupos  \n"
      ],
      "id": "6283a354"
    },
    {
      "cell_type": "code",
      "metadata": {},
      "source": [
        "summary(duracion_afternoon)"
      ],
      "id": "6bea020c",
      "execution_count": null,
      "outputs": []
    },
    {
      "cell_type": "code",
      "metadata": {},
      "source": [
        "X<-duracion_afternoon[duracion_afternoon<50]\n",
        "# pinto la caja\n",
        "boxplot(X, ylim=c(5,40))\n",
        "grid()\n",
        "# Q1\n",
        "q1<-quantile(X,0.25)\n",
        "# Q3\n",
        "q3<-quantile(X,0.75)\n",
        "# Calculo el rango intercuartilico\n",
        "iqr<-q3-q1\n",
        "# le doy un nombre al vector\n",
        "names(iqr)<-\"iqr\"\n",
        "q1\n",
        "q3\n",
        "iqr\n",
        "\n",
        "text(1.25,q3,\"Q3\")\n",
        "text(1.29,median(X),\"mediana\")\n",
        "text(1.25,q1,\"Q1\")\n",
        "text(1.25,q3+1.5*iqr,\"Q3+1.5·IQR\")\n",
        "text(1.25,q1-1.5*iqr,\"Q1-1.5·IQR\")\n",
        "\n",
        "text(0.9,q3+1.8*iqr,\"Outlayers\")"
      ],
      "id": "aa8dfe88",
      "execution_count": null,
      "outputs": []
    },
    {
      "cell_type": "code",
      "metadata": {},
      "source": [
        "quantile(X)"
      ],
      "id": "1323a6ab",
      "execution_count": null,
      "outputs": []
    },
    {
      "cell_type": "code",
      "metadata": {},
      "source": [
        "summary(X)"
      ],
      "id": "b7c1312c",
      "execution_count": null,
      "outputs": []
    },
    {
      "cell_type": "markdown",
      "metadata": {},
      "source": [
        "ver las muestras entre el 10% y el 90%"
      ],
      "id": "65646258"
    },
    {
      "cell_type": "code",
      "metadata": {},
      "source": [
        "quantile(X, c(0.1,0.5,0.9))"
      ],
      "id": "0750bd1c",
      "execution_count": null,
      "outputs": []
    },
    {
      "cell_type": "markdown",
      "metadata": {},
      "source": [
        "ver cuartiles"
      ],
      "id": "c925a36f"
    },
    {
      "cell_type": "code",
      "metadata": {},
      "source": [
        "quantile(X, c(0.25,0.5,0.75))"
      ],
      "id": "d13b98d4",
      "execution_count": null,
      "outputs": []
    },
    {
      "cell_type": "code",
      "metadata": {},
      "source": [
        "?boxplot"
      ],
      "id": "e72190bb",
      "execution_count": null,
      "outputs": []
    },
    {
      "cell_type": "markdown",
      "metadata": {},
      "source": [
        "### Quantiles o percentiles\n",
        "\n",
        "El percentil indica el porcentaje de muestras que se encuentran debajo\n",
        "de un umbral dado. Es igual al cuantil, solo que este está dado en tanto\n",
        "por 1 mientras que el percentil está dado en tanto por ciento.\n",
        "\n",
        "#### Ejemplo:\n",
        "\n",
        "Los percentiles se utilizan mucho para mostrar si el peso de un bebé es\n",
        "el correcto o se desvía mucho de lo esperado. ![](pics/percentiles.png)\n",
        "Fuente\n",
        "[OMS](http://www.who.int/childgrowth/standards/sft_wfa_girls_p/en/)\n",
        "\n",
        "En R tenemos la función *quantile()*\n"
      ],
      "id": "6b96307d"
    },
    {
      "cell_type": "code",
      "metadata": {},
      "source": [
        "# el 90% se ha tardado menos de 23 minutos o el 10% de las veces ha tardado mas de 23 minutos\n",
        "quantile(duracion_afternoon,0.9)"
      ],
      "id": "62f71694",
      "execution_count": null,
      "outputs": []
    },
    {
      "cell_type": "markdown",
      "metadata": {},
      "source": [
        "### Moda\n",
        "\n",
        "rnorm: permite generar numeros de forma aleatoria que siguen una distribucion normal (distribucion gausiana con media y desviacion tipica)\n",
        "\n",
        "runif: permite generar numeros aleatrorios que siguen una distribucion uniforme (que van de un numero a un numero)\n",
        "\n",
        "Es el valor con mayor frecuencia en una distribución o más común.\n"
      ],
      "id": "14689f43"
    },
    {
      "cell_type": "code",
      "metadata": {},
      "source": [
        "# se define la semilla y los numeros son seudo aleatorios, siempre parten de un origen y los algoritnos consiguen la mayor aleatoriedad\n",
        "# basicamente se hace para que los valores no cambien, para eso se define la semilla\n",
        "set.seed(123)\n",
        "# Creamos una secuencia de 40 números aleatorios de media 7 y desviacion tipica 2, se redondea para sacar el valor entero y con él hacer los calculos\n",
        "vec<-round(rnorm(40,mean=7,sd=2))\n",
        "vec"
      ],
      "id": "7b5102e0",
      "execution_count": null,
      "outputs": []
    },
    {
      "cell_type": "code",
      "metadata": {},
      "source": [
        "#Contamos las veces que aparece cada uno\n",
        "# table, cuenta el numero de apariciones, es una matriz de conteos o frecuencias\n",
        "myTable<-table(vec)\n",
        "myTable"
      ],
      "id": "523e9cbe",
      "execution_count": null,
      "outputs": []
    },
    {
      "cell_type": "code",
      "metadata": {},
      "source": [
        "#Contamos las veces que aparece cada uno\n",
        "summary(factor(vec))"
      ],
      "id": "53f78b2e",
      "execution_count": null,
      "outputs": []
    },
    {
      "cell_type": "code",
      "metadata": {},
      "source": [
        "str(myTable)"
      ],
      "id": "16b3f513",
      "execution_count": null,
      "outputs": []
    },
    {
      "cell_type": "code",
      "metadata": {},
      "source": [
        "# nombre de la columna, devuelve el indice del maximo which.max\n",
        "names(myTable)[which.max(myTable)]"
      ],
      "id": "f3f56083",
      "execution_count": null,
      "outputs": []
    },
    {
      "cell_type": "code",
      "metadata": {},
      "source": [
        "# devuelve la posicion de la primera aparicion del mayor valor\n",
        "v <- c(1, 4, 5, 1, 5)\n",
        "which.max(v)"
      ],
      "id": "58ec1044",
      "execution_count": null,
      "outputs": []
    },
    {
      "cell_type": "code",
      "metadata": {},
      "source": [
        "# devuelve todas las posiciones del mayor valor\n",
        "v <- c(1, 4, 5, 1, 5)\n",
        "which(v == max(v))"
      ],
      "id": "8c9f82a7",
      "execution_count": null,
      "outputs": []
    },
    {
      "cell_type": "code",
      "metadata": {},
      "source": [
        "myTable[\"6\"]\n",
        "myTable[4]"
      ],
      "id": "b8cd17b1",
      "execution_count": null,
      "outputs": []
    },
    {
      "cell_type": "code",
      "metadata": {},
      "source": [
        "print(paste(\"La posición del máximo es:\",which.max(myTable)))\n",
        "\n",
        "print(paste(\"El número más común es:\",names(myTable)[which.max(myTable)]))\n",
        "print(paste(\"Ese número ha aparecido \",max(myTable),\"veces\"))"
      ],
      "id": "216e3c94",
      "execution_count": null,
      "outputs": []
    }
  ],
  "metadata": {
    "kernelspec": {
      "display_name": "R",
      "language": "R",
      "name": "ir"
    }
  },
  "nbformat": 4,
  "nbformat_minor": 5
}