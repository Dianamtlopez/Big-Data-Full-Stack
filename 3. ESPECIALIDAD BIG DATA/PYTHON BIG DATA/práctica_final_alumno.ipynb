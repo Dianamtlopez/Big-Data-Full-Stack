{
 "cells": [
  {
   "cell_type": "code",
   "execution_count": 3,
   "metadata": {},
   "outputs": [],
   "source": [
    "import pandas as pd"
   ]
  },
  {
   "cell_type": "markdown",
   "metadata": {},
   "source": [
    "Cargar datos"
   ]
  },
  {
   "cell_type": "code",
   "execution_count": 7,
   "metadata": {},
   "outputs": [],
   "source": [
    "# Importamos el dataset de los datos de los pokemon"
   ]
  },
  {
   "cell_type": "code",
   "execution_count": null,
   "metadata": {},
   "outputs": [],
   "source": [
    "'''\n",
    "1. ¿Cuántos pokémon hay en el dataset?\n",
    "'''\n"
   ]
  },
  {
   "cell_type": "code",
   "execution_count": null,
   "metadata": {},
   "outputs": [],
   "source": [
    "'''\n",
    "2. ¿Cuántos pokémon hay de tipo Poison? (Type 1)\n",
    "'''"
   ]
  },
  {
   "cell_type": "code",
   "execution_count": null,
   "metadata": {},
   "outputs": [],
   "source": [
    "'''\n",
    "3. ¿Cuántos tipos diferentes de pokémon hay? (Type 1)\n",
    "'''"
   ]
  },
  {
   "cell_type": "code",
   "execution_count": null,
   "metadata": {},
   "outputs": [],
   "source": [
    "'''\n",
    "2. ¿Cuántos pokémon hay de cada tipo? (Type 1)\n",
    "'''\n",
    "\n",
    "'''\n",
    "2.1 ¿cual es el tipo de pokémon con más pokémon? (Type 1)\n",
    "'''"
   ]
  },
  {
   "cell_type": "code",
   "execution_count": null,
   "metadata": {},
   "outputs": [],
   "source": [
    "'''\n",
    "3. ¿Cuál es el pokémon más rápido?\n",
    "'''"
   ]
  },
  {
   "cell_type": "code",
   "execution_count": 50,
   "metadata": {},
   "outputs": [],
   "source": [
    "'''\n",
    "4. ¿Cuántos pokemon tiene una defensa superior a 100?\n",
    "'''\n",
    "\n",
    "'''\n",
    "4.1 ¿Cuántos pokemon tiene una defensa superior a 100?\n",
    "'''\n"
   ]
  },
  {
   "cell_type": "code",
   "execution_count": null,
   "metadata": {},
   "outputs": [],
   "source": [
    "'''\n",
    "5. ¿Cuántos pokemon tiene una defensa superior a 100 y una velocidad superior a 100?\n",
    "'''"
   ]
  },
  {
   "cell_type": "code",
   "execution_count": null,
   "metadata": {},
   "outputs": [],
   "source": [
    "'''\n",
    "6. Ordena el dataset por el tipo 1 y por el tipo 2\n",
    "'''"
   ]
  },
  {
   "cell_type": "code",
   "execution_count": null,
   "metadata": {},
   "outputs": [],
   "source": [
    "'''\n",
    "7. Crea un nuevo dataset con los pokémon de tipo Water y Fire como primer tipo\n",
    "'''"
   ]
  },
  {
   "cell_type": "code",
   "execution_count": null,
   "metadata": {},
   "outputs": [],
   "source": [
    "'''\n",
    "8. Crea un nuevo dataset con los pokemon Legendary\n",
    "'''"
   ]
  },
  {
   "cell_type": "code",
   "execution_count": null,
   "metadata": {},
   "outputs": [],
   "source": [
    "'''\n",
    "9. Calcula el promedio de stats de los pokemon Legendary (HP, Attack, Defense, Sp. Atk, Sp. Def, Speed) y los no Legendary\n",
    "'''"
   ]
  },
  {
   "cell_type": "code",
   "execution_count": null,
   "metadata": {},
   "outputs": [],
   "source": [
    "'''\n",
    "10. Crea un nuevo dataframe con el resultado del anterior ejercicio comparando ambos promedios\n",
    "\n",
    "ejemplo:\n",
    "                HP  Attack  Defense  Sp. Atk  Sp. Def  Speed\n",
    "Legendary       99      90       89       91       94     90\n",
    "No Legendary    80      95       75       12       43     87\n",
    "\n",
    "'''"
   ]
  },
  {
   "cell_type": "code",
   "execution_count": null,
   "metadata": {},
   "outputs": [],
   "source": [
    "'''\n",
    "11. Añade una nueva colunma ['Doble tipo'] al dataframe inicial que inndique si el pokemo tiene dos tipos o no\n",
    "'''"
   ]
  },
  {
   "cell_type": "code",
   "execution_count": null,
   "metadata": {},
   "outputs": [],
   "source": [
    "'''\n",
    "12. Muestra las columas Name, Type 1, Type 2 de los pokémon que tienen dos tipos y ordenalos por Type 1 , Type 2 y Name\n",
    "'''"
   ]
  },
  {
   "cell_type": "code",
   "execution_count": 18,
   "metadata": {},
   "outputs": [],
   "source": [
    "from functools import reduce\n",
    "\n",
    "'''\n",
    "13. Dada una lista de Artículos con sus precio. Define las siguientes funciones:\n",
    "Puedes definir más funciones si lo consideras necesario.\n",
    "'''\n",
    "articulos = {\n",
    "    'Camisa': 20,\n",
    "    'Pantalón': 30,\n",
    "    'Calcetines': 5,\n",
    "    'Zapatos': 50,\n",
    "    'Gorra': 10,\n",
    "    'Bufanda': 15,\n",
    "    'Gafas': 25,\n",
    "    'Reloj': 35,\n",
    "    'Corbata': 40,\n",
    "}\n",
    "\n",
    "compra = ['Camisa', 'Pantalón', 'Pantalón', 'Gorra', 'Gafas', 'Corbata']\n",
    "\n",
    "\n",
    "# A. Una función que calcule el precio total de la compra\n",
    "\n",
    "# B. Una función que calcule el precio total de la compra con un descuento del 10%\n",
    "\n",
    "# C. Una función que calcule el precio total de la compra con un descuento del 10% si la compra supera los 100€\n",
    "\n",
    "# D. Una función que calcule el precio total aplicando el IVA (21%)\n",
    "\n",
    "# E.lista los artículos cuyo precio es superior a 20€"
   ]
  },
  {
   "cell_type": "code",
   "execution_count": null,
   "metadata": {},
   "outputs": [],
   "source": [
    "'''\n",
    "14. Dada una lista de tuplas con el nombre de un alumno, apellidos, curso y sus notas. \n",
    "\n",
    " Define una funcion que reciba el curso y saque una lista en la que aparezca e nombre y apellidos y el promedio de sus notas.\n",
    " Puedes definir más funciones si lo consideras necesario.\n",
    "'''\n",
    "\n",
    "alumnos = [('Juan', 'Pérez', '1', [5, 6, 7, 8, 9]),\n",
    "            ('Ana', 'García', '2', [5, 6, 7, 8, 9]),\n",
    "            ('Luis', 'González', '1', [5, 6, 7, 8, 9]),\n",
    "            ('María', 'Martínez', '2', [5, 6, 7, 8, 9]),\n",
    "            ('Pedro', 'Rodríguez', '1', [5, 6, 7, 8, 9]),\n",
    "            ('Lucía', 'Hernández', '2', [5, 6, 7, 8, 9]),\n",
    "            ('Marta', 'López', '1', [5, 6, 7, 8, 9]),\n",
    "            ('Sara', 'Díaz', '2', [5, 6, 7, 8, 9]),\n",
    "            ('Javier', 'Sánchez', '1', [5, 6, 7, 8, 9]),\n",
    "            ('Miguel', 'Fernández', '2', [5, 6, 7, 8, 9]),\n",
    "            ('Sergio', 'Jiménez', '1', [5, 6, 7, 8, 9]),\n",
    "            ('Sandra', 'Ruiz', '2', [5, 6, 7, 8, 9]),\n",
    "            ('Pablo', 'Álvarez', '1', [5, 6, 7, 8, 9]),\n",
    "            ('María', 'Gómez', '2', [5, 6, 7, 8, 9]),\n",
    "]"
   ]
  }
 ],
 "metadata": {
  "kernelspec": {
   "display_name": "Python 3.8.10 64-bit",
   "language": "python",
   "name": "python3"
  },
  "language_info": {
   "codemirror_mode": {
    "name": "ipython",
    "version": 3
   },
   "file_extension": ".py",
   "mimetype": "text/x-python",
   "name": "python",
   "nbconvert_exporter": "python",
   "pygments_lexer": "ipython3",
   "version": "3.8.10"
  },
  "orig_nbformat": 4,
  "vscode": {
   "interpreter": {
    "hash": "916dbcbb3f70747c44a77c7bcd40155683ae19c65e1c03b4aa3499c5328201f1"
   }
  }
 },
 "nbformat": 4,
 "nbformat_minor": 2
}
